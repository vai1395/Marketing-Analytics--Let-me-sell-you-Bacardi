{
 "cells": [
  {
   "cell_type": "code",
   "execution_count": 186,
   "metadata": {},
   "outputs": [],
   "source": [
    "import pandas as pd\n",
    "import numpy as np\n",
    "from sklearn.cluster import KMeans\n",
    "from sklearn.preprocessing import StandardScaler, MinMaxScaler\n",
    "import plotly.express as px\n",
    "from sklearn.manifold import TSNE\n",
    "from sklearn.decomposition import PCA"
   ]
  },
  {
   "cell_type": "code",
   "execution_count": 65,
   "metadata": {},
   "outputs": [],
   "source": [
    "sales_2022 = pd.read_csv(\"./Data/Iowa_Liquor_Sales_2022.csv\")"
   ]
  },
  {
   "cell_type": "code",
   "execution_count": 366,
   "metadata": {},
   "outputs": [
    {
     "name": "stdout",
     "output_type": "stream",
     "text": [
      "<class 'pandas.core.frame.DataFrame'>\n",
      "RangeIndex: 2564565 entries, 0 to 2564564\n",
      "Data columns (total 29 columns):\n",
      " #   Column                              Dtype  \n",
      "---  ------                              -----  \n",
      " 0   Invoice/Item Number                 object \n",
      " 1   Date                                object \n",
      " 2   Store Number                        int64  \n",
      " 3   Store Name                          object \n",
      " 4   Address                             object \n",
      " 5   City                                object \n",
      " 6   Zip Code                            float64\n",
      " 7   Store Location                      object \n",
      " 8   County Number                       float64\n",
      " 9   County                              object \n",
      " 10  Category                            int64  \n",
      " 11  Category Name                       object \n",
      " 12  Vendor Number                       int64  \n",
      " 13  Vendor Name                         object \n",
      " 14  Item Number                         int64  \n",
      " 15  Item Description                    object \n",
      " 16  Pack                                int64  \n",
      " 17  Bottle Volume (ml)                  int64  \n",
      " 18  State Bottle Cost                   float64\n",
      " 19  State Bottle Retail                 float64\n",
      " 20  Bottles Sold                        int64  \n",
      " 21  Sale (Dollars)                      float64\n",
      " 22  Volume Sold (Liters)                float64\n",
      " 23  Volume Sold (Gallons)               float64\n",
      " 24  Iowa ZIP Code Tabulation Areas      float64\n",
      " 25  Iowa Watershed Sub-Basins (HUC 08)  float64\n",
      " 26  Iowa Watersheds (HUC 10)            float64\n",
      " 27  County Boundaries of Iowa           float64\n",
      " 28  US Counties                         float64\n",
      "dtypes: float64(12), int64(7), object(10)\n",
      "memory usage: 567.4+ MB\n"
     ]
    }
   ],
   "source": [
    "sales_2022.info()"
   ]
  },
  {
   "cell_type": "code",
   "execution_count": 367,
   "metadata": {},
   "outputs": [],
   "source": [
    "sales_2022_filtered = sales_2022[['Vendor Number', 'Category Name', 'County Number', 'Volume Sold (Liters)', 'Bottles Sold', 'Sale (Dollars)']]\n",
    "sales_2022_agg = sales_2022_filtered.groupby(['Vendor Number', 'Category Name', 'County Number']).agg(\n",
    "    cumulative_vol = pd.NamedAgg(column='Volume Sold (Liters)', aggfunc='sum')\n",
    ").reset_index(drop=False)"
   ]
  },
  {
   "cell_type": "code",
   "execution_count": 369,
   "metadata": {},
   "outputs": [
    {
     "data": {
      "text/html": [
       "<div>\n",
       "<style scoped>\n",
       "    .dataframe tbody tr th:only-of-type {\n",
       "        vertical-align: middle;\n",
       "    }\n",
       "\n",
       "    .dataframe tbody tr th {\n",
       "        vertical-align: top;\n",
       "    }\n",
       "\n",
       "    .dataframe thead th {\n",
       "        text-align: right;\n",
       "    }\n",
       "</style>\n",
       "<table border=\"1\" class=\"dataframe\">\n",
       "  <thead>\n",
       "    <tr style=\"text-align: right;\">\n",
       "      <th>Agg_Name</th>\n",
       "      <th>Vendor Number</th>\n",
       "      <th>100% AGAVE TEQUILA_1.0</th>\n",
       "      <th>100% AGAVE TEQUILA_2.0</th>\n",
       "      <th>100% AGAVE TEQUILA_3.0</th>\n",
       "      <th>100% AGAVE TEQUILA_4.0</th>\n",
       "      <th>100% AGAVE TEQUILA_5.0</th>\n",
       "      <th>100% AGAVE TEQUILA_6.0</th>\n",
       "      <th>100% AGAVE TEQUILA_7.0</th>\n",
       "      <th>100% AGAVE TEQUILA_8.0</th>\n",
       "      <th>100% AGAVE TEQUILA_9.0</th>\n",
       "      <th>...</th>\n",
       "      <th>WHITE RUM_90.0</th>\n",
       "      <th>WHITE RUM_91.0</th>\n",
       "      <th>WHITE RUM_92.0</th>\n",
       "      <th>WHITE RUM_93.0</th>\n",
       "      <th>WHITE RUM_94.0</th>\n",
       "      <th>WHITE RUM_95.0</th>\n",
       "      <th>WHITE RUM_96.0</th>\n",
       "      <th>WHITE RUM_97.0</th>\n",
       "      <th>WHITE RUM_98.0</th>\n",
       "      <th>WHITE RUM_99.0</th>\n",
       "    </tr>\n",
       "  </thead>\n",
       "  <tbody>\n",
       "    <tr>\n",
       "      <th>0</th>\n",
       "      <td>35</td>\n",
       "      <td>44.97</td>\n",
       "      <td>9.0</td>\n",
       "      <td>163.86</td>\n",
       "      <td>124.50</td>\n",
       "      <td>8.25</td>\n",
       "      <td>91.37</td>\n",
       "      <td>5149.79</td>\n",
       "      <td>200.99</td>\n",
       "      <td>187.86</td>\n",
       "      <td>...</td>\n",
       "      <td>1282.48</td>\n",
       "      <td>923.36</td>\n",
       "      <td>1235.49</td>\n",
       "      <td>43.87</td>\n",
       "      <td>1595.21</td>\n",
       "      <td>409.74</td>\n",
       "      <td>618.97</td>\n",
       "      <td>6094.1</td>\n",
       "      <td>186.45</td>\n",
       "      <td>647.86</td>\n",
       "    </tr>\n",
       "    <tr>\n",
       "      <th>1</th>\n",
       "      <td>65</td>\n",
       "      <td>36.00</td>\n",
       "      <td>2.5</td>\n",
       "      <td>10.50</td>\n",
       "      <td>42.25</td>\n",
       "      <td>7.50</td>\n",
       "      <td>64.20</td>\n",
       "      <td>1575.19</td>\n",
       "      <td>185.15</td>\n",
       "      <td>235.65</td>\n",
       "      <td>...</td>\n",
       "      <td>9.00</td>\n",
       "      <td>0.00</td>\n",
       "      <td>0.00</td>\n",
       "      <td>0.00</td>\n",
       "      <td>9.00</td>\n",
       "      <td>0.00</td>\n",
       "      <td>9.00</td>\n",
       "      <td>171.0</td>\n",
       "      <td>0.00</td>\n",
       "      <td>0.00</td>\n",
       "    </tr>\n",
       "    <tr>\n",
       "      <th>2</th>\n",
       "      <td>79</td>\n",
       "      <td>0.00</td>\n",
       "      <td>0.0</td>\n",
       "      <td>0.00</td>\n",
       "      <td>0.00</td>\n",
       "      <td>0.00</td>\n",
       "      <td>0.00</td>\n",
       "      <td>0.00</td>\n",
       "      <td>0.00</td>\n",
       "      <td>0.00</td>\n",
       "      <td>...</td>\n",
       "      <td>0.00</td>\n",
       "      <td>0.00</td>\n",
       "      <td>0.00</td>\n",
       "      <td>0.00</td>\n",
       "      <td>0.00</td>\n",
       "      <td>0.00</td>\n",
       "      <td>0.00</td>\n",
       "      <td>0.0</td>\n",
       "      <td>0.00</td>\n",
       "      <td>0.00</td>\n",
       "    </tr>\n",
       "    <tr>\n",
       "      <th>3</th>\n",
       "      <td>85</td>\n",
       "      <td>0.00</td>\n",
       "      <td>0.0</td>\n",
       "      <td>9.00</td>\n",
       "      <td>15.00</td>\n",
       "      <td>0.00</td>\n",
       "      <td>0.75</td>\n",
       "      <td>513.85</td>\n",
       "      <td>9.00</td>\n",
       "      <td>13.50</td>\n",
       "      <td>...</td>\n",
       "      <td>0.00</td>\n",
       "      <td>0.00</td>\n",
       "      <td>0.00</td>\n",
       "      <td>0.00</td>\n",
       "      <td>0.00</td>\n",
       "      <td>0.00</td>\n",
       "      <td>0.00</td>\n",
       "      <td>0.0</td>\n",
       "      <td>0.00</td>\n",
       "      <td>0.00</td>\n",
       "    </tr>\n",
       "    <tr>\n",
       "      <th>4</th>\n",
       "      <td>86</td>\n",
       "      <td>0.00</td>\n",
       "      <td>0.0</td>\n",
       "      <td>0.00</td>\n",
       "      <td>0.00</td>\n",
       "      <td>0.00</td>\n",
       "      <td>0.00</td>\n",
       "      <td>0.00</td>\n",
       "      <td>0.00</td>\n",
       "      <td>0.00</td>\n",
       "      <td>...</td>\n",
       "      <td>0.00</td>\n",
       "      <td>0.00</td>\n",
       "      <td>0.00</td>\n",
       "      <td>0.00</td>\n",
       "      <td>0.00</td>\n",
       "      <td>0.00</td>\n",
       "      <td>0.00</td>\n",
       "      <td>0.0</td>\n",
       "      <td>0.00</td>\n",
       "      <td>0.00</td>\n",
       "    </tr>\n",
       "    <tr>\n",
       "      <th>...</th>\n",
       "      <td>...</td>\n",
       "      <td>...</td>\n",
       "      <td>...</td>\n",
       "      <td>...</td>\n",
       "      <td>...</td>\n",
       "      <td>...</td>\n",
       "      <td>...</td>\n",
       "      <td>...</td>\n",
       "      <td>...</td>\n",
       "      <td>...</td>\n",
       "      <td>...</td>\n",
       "      <td>...</td>\n",
       "      <td>...</td>\n",
       "      <td>...</td>\n",
       "      <td>...</td>\n",
       "      <td>...</td>\n",
       "      <td>...</td>\n",
       "      <td>...</td>\n",
       "      <td>...</td>\n",
       "      <td>...</td>\n",
       "      <td>...</td>\n",
       "    </tr>\n",
       "    <tr>\n",
       "      <th>202</th>\n",
       "      <td>888</td>\n",
       "      <td>0.00</td>\n",
       "      <td>0.0</td>\n",
       "      <td>0.00</td>\n",
       "      <td>0.00</td>\n",
       "      <td>0.00</td>\n",
       "      <td>0.00</td>\n",
       "      <td>0.00</td>\n",
       "      <td>0.00</td>\n",
       "      <td>0.00</td>\n",
       "      <td>...</td>\n",
       "      <td>0.00</td>\n",
       "      <td>0.00</td>\n",
       "      <td>0.00</td>\n",
       "      <td>0.00</td>\n",
       "      <td>0.00</td>\n",
       "      <td>0.00</td>\n",
       "      <td>0.00</td>\n",
       "      <td>0.0</td>\n",
       "      <td>0.00</td>\n",
       "      <td>0.00</td>\n",
       "    </tr>\n",
       "    <tr>\n",
       "      <th>203</th>\n",
       "      <td>892</td>\n",
       "      <td>0.00</td>\n",
       "      <td>0.0</td>\n",
       "      <td>0.00</td>\n",
       "      <td>0.00</td>\n",
       "      <td>0.00</td>\n",
       "      <td>0.00</td>\n",
       "      <td>0.00</td>\n",
       "      <td>0.00</td>\n",
       "      <td>0.00</td>\n",
       "      <td>...</td>\n",
       "      <td>0.00</td>\n",
       "      <td>0.00</td>\n",
       "      <td>0.00</td>\n",
       "      <td>0.00</td>\n",
       "      <td>0.00</td>\n",
       "      <td>0.00</td>\n",
       "      <td>0.00</td>\n",
       "      <td>0.0</td>\n",
       "      <td>0.00</td>\n",
       "      <td>0.00</td>\n",
       "    </tr>\n",
       "    <tr>\n",
       "      <th>204</th>\n",
       "      <td>962</td>\n",
       "      <td>0.00</td>\n",
       "      <td>0.0</td>\n",
       "      <td>0.00</td>\n",
       "      <td>0.00</td>\n",
       "      <td>0.00</td>\n",
       "      <td>0.00</td>\n",
       "      <td>0.00</td>\n",
       "      <td>0.00</td>\n",
       "      <td>0.00</td>\n",
       "      <td>...</td>\n",
       "      <td>0.00</td>\n",
       "      <td>0.00</td>\n",
       "      <td>0.00</td>\n",
       "      <td>0.00</td>\n",
       "      <td>0.00</td>\n",
       "      <td>0.00</td>\n",
       "      <td>0.00</td>\n",
       "      <td>0.0</td>\n",
       "      <td>0.00</td>\n",
       "      <td>0.00</td>\n",
       "    </tr>\n",
       "    <tr>\n",
       "      <th>205</th>\n",
       "      <td>971</td>\n",
       "      <td>0.00</td>\n",
       "      <td>0.0</td>\n",
       "      <td>0.00</td>\n",
       "      <td>0.00</td>\n",
       "      <td>0.00</td>\n",
       "      <td>0.00</td>\n",
       "      <td>0.00</td>\n",
       "      <td>0.00</td>\n",
       "      <td>0.00</td>\n",
       "      <td>...</td>\n",
       "      <td>0.00</td>\n",
       "      <td>0.00</td>\n",
       "      <td>0.00</td>\n",
       "      <td>0.00</td>\n",
       "      <td>0.00</td>\n",
       "      <td>0.00</td>\n",
       "      <td>0.00</td>\n",
       "      <td>0.0</td>\n",
       "      <td>0.00</td>\n",
       "      <td>0.00</td>\n",
       "    </tr>\n",
       "    <tr>\n",
       "      <th>206</th>\n",
       "      <td>978</td>\n",
       "      <td>0.00</td>\n",
       "      <td>0.0</td>\n",
       "      <td>0.00</td>\n",
       "      <td>0.00</td>\n",
       "      <td>0.00</td>\n",
       "      <td>0.00</td>\n",
       "      <td>0.00</td>\n",
       "      <td>0.00</td>\n",
       "      <td>0.00</td>\n",
       "      <td>...</td>\n",
       "      <td>0.00</td>\n",
       "      <td>0.00</td>\n",
       "      <td>0.00</td>\n",
       "      <td>0.00</td>\n",
       "      <td>0.00</td>\n",
       "      <td>0.00</td>\n",
       "      <td>0.00</td>\n",
       "      <td>0.0</td>\n",
       "      <td>0.00</td>\n",
       "      <td>0.00</td>\n",
       "    </tr>\n",
       "  </tbody>\n",
       "</table>\n",
       "<p>207 rows × 1276 columns</p>\n",
       "</div>"
      ],
      "text/plain": [
       "Agg_Name  Vendor Number  100% AGAVE TEQUILA_1.0  100% AGAVE TEQUILA_2.0  \\\n",
       "0                    35                   44.97                     9.0   \n",
       "1                    65                   36.00                     2.5   \n",
       "2                    79                    0.00                     0.0   \n",
       "3                    85                    0.00                     0.0   \n",
       "4                    86                    0.00                     0.0   \n",
       "..                  ...                     ...                     ...   \n",
       "202                 888                    0.00                     0.0   \n",
       "203                 892                    0.00                     0.0   \n",
       "204                 962                    0.00                     0.0   \n",
       "205                 971                    0.00                     0.0   \n",
       "206                 978                    0.00                     0.0   \n",
       "\n",
       "Agg_Name  100% AGAVE TEQUILA_3.0  100% AGAVE TEQUILA_4.0  \\\n",
       "0                         163.86                  124.50   \n",
       "1                          10.50                   42.25   \n",
       "2                           0.00                    0.00   \n",
       "3                           9.00                   15.00   \n",
       "4                           0.00                    0.00   \n",
       "..                           ...                     ...   \n",
       "202                         0.00                    0.00   \n",
       "203                         0.00                    0.00   \n",
       "204                         0.00                    0.00   \n",
       "205                         0.00                    0.00   \n",
       "206                         0.00                    0.00   \n",
       "\n",
       "Agg_Name  100% AGAVE TEQUILA_5.0  100% AGAVE TEQUILA_6.0  \\\n",
       "0                           8.25                   91.37   \n",
       "1                           7.50                   64.20   \n",
       "2                           0.00                    0.00   \n",
       "3                           0.00                    0.75   \n",
       "4                           0.00                    0.00   \n",
       "..                           ...                     ...   \n",
       "202                         0.00                    0.00   \n",
       "203                         0.00                    0.00   \n",
       "204                         0.00                    0.00   \n",
       "205                         0.00                    0.00   \n",
       "206                         0.00                    0.00   \n",
       "\n",
       "Agg_Name  100% AGAVE TEQUILA_7.0  100% AGAVE TEQUILA_8.0  \\\n",
       "0                        5149.79                  200.99   \n",
       "1                        1575.19                  185.15   \n",
       "2                           0.00                    0.00   \n",
       "3                         513.85                    9.00   \n",
       "4                           0.00                    0.00   \n",
       "..                           ...                     ...   \n",
       "202                         0.00                    0.00   \n",
       "203                         0.00                    0.00   \n",
       "204                         0.00                    0.00   \n",
       "205                         0.00                    0.00   \n",
       "206                         0.00                    0.00   \n",
       "\n",
       "Agg_Name  100% AGAVE TEQUILA_9.0  ...  WHITE RUM_90.0  WHITE RUM_91.0  \\\n",
       "0                         187.86  ...         1282.48          923.36   \n",
       "1                         235.65  ...            9.00            0.00   \n",
       "2                           0.00  ...            0.00            0.00   \n",
       "3                          13.50  ...            0.00            0.00   \n",
       "4                           0.00  ...            0.00            0.00   \n",
       "..                           ...  ...             ...             ...   \n",
       "202                         0.00  ...            0.00            0.00   \n",
       "203                         0.00  ...            0.00            0.00   \n",
       "204                         0.00  ...            0.00            0.00   \n",
       "205                         0.00  ...            0.00            0.00   \n",
       "206                         0.00  ...            0.00            0.00   \n",
       "\n",
       "Agg_Name  WHITE RUM_92.0  WHITE RUM_93.0  WHITE RUM_94.0  WHITE RUM_95.0  \\\n",
       "0                1235.49           43.87         1595.21          409.74   \n",
       "1                   0.00            0.00            9.00            0.00   \n",
       "2                   0.00            0.00            0.00            0.00   \n",
       "3                   0.00            0.00            0.00            0.00   \n",
       "4                   0.00            0.00            0.00            0.00   \n",
       "..                   ...             ...             ...             ...   \n",
       "202                 0.00            0.00            0.00            0.00   \n",
       "203                 0.00            0.00            0.00            0.00   \n",
       "204                 0.00            0.00            0.00            0.00   \n",
       "205                 0.00            0.00            0.00            0.00   \n",
       "206                 0.00            0.00            0.00            0.00   \n",
       "\n",
       "Agg_Name  WHITE RUM_96.0  WHITE RUM_97.0  WHITE RUM_98.0  WHITE RUM_99.0  \n",
       "0                 618.97          6094.1          186.45          647.86  \n",
       "1                   9.00           171.0            0.00            0.00  \n",
       "2                   0.00             0.0            0.00            0.00  \n",
       "3                   0.00             0.0            0.00            0.00  \n",
       "4                   0.00             0.0            0.00            0.00  \n",
       "..                   ...             ...             ...             ...  \n",
       "202                 0.00             0.0            0.00            0.00  \n",
       "203                 0.00             0.0            0.00            0.00  \n",
       "204                 0.00             0.0            0.00            0.00  \n",
       "205                 0.00             0.0            0.00            0.00  \n",
       "206                 0.00             0.0            0.00            0.00  \n",
       "\n",
       "[207 rows x 1276 columns]"
      ]
     },
     "execution_count": 369,
     "metadata": {},
     "output_type": "execute_result"
    }
   ],
   "source": [
    "sales_2022_agg['Agg_Name'] = sales_2022_agg['Category Name'] + \"_\" + sales_2022_agg['County Number'].astype(str)\n",
    "table = pd.pivot_table(sales_2022_agg, values='cumulative_vol', index=['Vendor Number'],\n",
    "                       columns=['Agg_Name'], aggfunc=\"sum\", fill_value=0)\n",
    "table = table.reset_index(drop=False).set_index(['Vendor Number'])\n",
    "\n",
    "imp_categories = list(sales_2022_agg[sales_2022_agg['Vendor Number'] == 35]['Agg_Name'].unique())\n",
    "table = table[imp_categories].reset_index(drop=False)\n",
    "table"
   ]
  },
  {
   "cell_type": "code",
   "execution_count": 373,
   "metadata": {},
   "outputs": [
    {
     "data": {
      "text/html": [
       "<div>\n",
       "<style scoped>\n",
       "    .dataframe tbody tr th:only-of-type {\n",
       "        vertical-align: middle;\n",
       "    }\n",
       "\n",
       "    .dataframe tbody tr th {\n",
       "        vertical-align: top;\n",
       "    }\n",
       "\n",
       "    .dataframe thead th {\n",
       "        text-align: right;\n",
       "    }\n",
       "</style>\n",
       "<table border=\"1\" class=\"dataframe\">\n",
       "  <thead>\n",
       "    <tr style=\"text-align: right;\">\n",
       "      <th></th>\n",
       "      <th>n_clusters</th>\n",
       "      <th>labels</th>\n",
       "      <th>inertia</th>\n",
       "    </tr>\n",
       "  </thead>\n",
       "  <tbody>\n",
       "    <tr>\n",
       "      <th>0</th>\n",
       "      <td>1</td>\n",
       "      <td>[0, 0, 0, 0, 0, 0, 0, 0, 0, 0, 0, 0, 0, 0, 0, ...</td>\n",
       "      <td>38715.250000</td>\n",
       "    </tr>\n",
       "    <tr>\n",
       "      <th>1</th>\n",
       "      <td>2</td>\n",
       "      <td>[0, 0, 0, 0, 1, 0, 0, 1, 1, 1, 1, 0, 1, 1, 0, ...</td>\n",
       "      <td>25359.750000</td>\n",
       "    </tr>\n",
       "    <tr>\n",
       "      <th>2</th>\n",
       "      <td>3</td>\n",
       "      <td>[0, 2, 0, 2, 2, 0, 0, 2, 2, 1, 2, 2, 2, 1, 0, ...</td>\n",
       "      <td>18902.873047</td>\n",
       "    </tr>\n",
       "    <tr>\n",
       "      <th>3</th>\n",
       "      <td>4</td>\n",
       "      <td>[0, 2, 0, 2, 2, 2, 0, 2, 2, 1, 0, 2, 2, 1, 0, ...</td>\n",
       "      <td>16381.331055</td>\n",
       "    </tr>\n",
       "    <tr>\n",
       "      <th>4</th>\n",
       "      <td>5</td>\n",
       "      <td>[0, 2, 0, 2, 2, 0, 0, 2, 2, 1, 4, 0, 4, 4, 0, ...</td>\n",
       "      <td>12049.518555</td>\n",
       "    </tr>\n",
       "    <tr>\n",
       "      <th>5</th>\n",
       "      <td>6</td>\n",
       "      <td>[0, 2, 0, 2, 2, 0, 5, 5, 2, 1, 5, 2, 5, 5, 0, ...</td>\n",
       "      <td>9669.011719</td>\n",
       "    </tr>\n",
       "    <tr>\n",
       "      <th>6</th>\n",
       "      <td>7</td>\n",
       "      <td>[0, 2, 0, 2, 2, 6, 0, 2, 2, 1, 5, 0, 5, 5, 0, ...</td>\n",
       "      <td>8340.337891</td>\n",
       "    </tr>\n",
       "    <tr>\n",
       "      <th>7</th>\n",
       "      <td>8</td>\n",
       "      <td>[0, 2, 0, 2, 2, 7, 0, 4, 2, 1, 4, 7, 4, 4, 0, ...</td>\n",
       "      <td>6910.688477</td>\n",
       "    </tr>\n",
       "    <tr>\n",
       "      <th>8</th>\n",
       "      <td>9</td>\n",
       "      <td>[0, 2, 0, 2, 2, 7, 0, 4, 2, 8, 4, 7, 4, 5, 0, ...</td>\n",
       "      <td>5814.857422</td>\n",
       "    </tr>\n",
       "    <tr>\n",
       "      <th>9</th>\n",
       "      <td>10</td>\n",
       "      <td>[0, 2, 0, 2, 2, 7, 4, 1, 2, 8, 4, 7, 4, 4, 0, ...</td>\n",
       "      <td>5385.601074</td>\n",
       "    </tr>\n",
       "    <tr>\n",
       "      <th>10</th>\n",
       "      <td>11</td>\n",
       "      <td>[0, 2, 0, 2, 2, 7, 4, 1, 2, 8, 4, 7, 4, 4, 0, ...</td>\n",
       "      <td>4232.805664</td>\n",
       "    </tr>\n",
       "    <tr>\n",
       "      <th>11</th>\n",
       "      <td>12</td>\n",
       "      <td>[0, 2, 0, 2, 2, 7, 4, 1, 2, 8, 4, 7, 4, 4, 0, ...</td>\n",
       "      <td>3825.311768</td>\n",
       "    </tr>\n",
       "    <tr>\n",
       "      <th>12</th>\n",
       "      <td>13</td>\n",
       "      <td>[0, 12, 0, 12, 2, 7, 4, 1, 2, 8, 4, 7, 4, 4, 0...</td>\n",
       "      <td>3382.532227</td>\n",
       "    </tr>\n",
       "    <tr>\n",
       "      <th>13</th>\n",
       "      <td>14</td>\n",
       "      <td>[0, 12, 0, 12, 2, 7, 0, 1, 2, 8, 4, 13, 4, 4, ...</td>\n",
       "      <td>3018.496826</td>\n",
       "    </tr>\n",
       "    <tr>\n",
       "      <th>14</th>\n",
       "      <td>15</td>\n",
       "      <td>[0, 12, 0, 12, 2, 7, 14, 4, 2, 8, 14, 13, 4, 1...</td>\n",
       "      <td>2854.545410</td>\n",
       "    </tr>\n",
       "    <tr>\n",
       "      <th>15</th>\n",
       "      <td>16</td>\n",
       "      <td>[0, 12, 0, 12, 2, 7, 14, 2, 2, 8, 14, 13, 4, 1...</td>\n",
       "      <td>2677.010010</td>\n",
       "    </tr>\n",
       "    <tr>\n",
       "      <th>16</th>\n",
       "      <td>17</td>\n",
       "      <td>[0, 16, 0, 16, 2, 7, 14, 2, 2, 8, 14, 13, 4, 1...</td>\n",
       "      <td>2502.440918</td>\n",
       "    </tr>\n",
       "    <tr>\n",
       "      <th>17</th>\n",
       "      <td>18</td>\n",
       "      <td>[0, 16, 0, 16, 2, 7, 14, 2, 2, 8, 14, 13, 4, 1...</td>\n",
       "      <td>2277.920898</td>\n",
       "    </tr>\n",
       "    <tr>\n",
       "      <th>18</th>\n",
       "      <td>19</td>\n",
       "      <td>[0, 16, 0, 16, 2, 7, 14, 2, 2, 8, 14, 13, 4, 1...</td>\n",
       "      <td>2066.846436</td>\n",
       "    </tr>\n",
       "    <tr>\n",
       "      <th>19</th>\n",
       "      <td>20</td>\n",
       "      <td>[0, 16, 0, 16, 2, 7, 14, 2, 2, 8, 14, 13, 4, 1...</td>\n",
       "      <td>1929.880127</td>\n",
       "    </tr>\n",
       "  </tbody>\n",
       "</table>\n",
       "</div>"
      ],
      "text/plain": [
       "    n_clusters                                             labels  \\\n",
       "0            1  [0, 0, 0, 0, 0, 0, 0, 0, 0, 0, 0, 0, 0, 0, 0, ...   \n",
       "1            2  [0, 0, 0, 0, 1, 0, 0, 1, 1, 1, 1, 0, 1, 1, 0, ...   \n",
       "2            3  [0, 2, 0, 2, 2, 0, 0, 2, 2, 1, 2, 2, 2, 1, 0, ...   \n",
       "3            4  [0, 2, 0, 2, 2, 2, 0, 2, 2, 1, 0, 2, 2, 1, 0, ...   \n",
       "4            5  [0, 2, 0, 2, 2, 0, 0, 2, 2, 1, 4, 0, 4, 4, 0, ...   \n",
       "5            6  [0, 2, 0, 2, 2, 0, 5, 5, 2, 1, 5, 2, 5, 5, 0, ...   \n",
       "6            7  [0, 2, 0, 2, 2, 6, 0, 2, 2, 1, 5, 0, 5, 5, 0, ...   \n",
       "7            8  [0, 2, 0, 2, 2, 7, 0, 4, 2, 1, 4, 7, 4, 4, 0, ...   \n",
       "8            9  [0, 2, 0, 2, 2, 7, 0, 4, 2, 8, 4, 7, 4, 5, 0, ...   \n",
       "9           10  [0, 2, 0, 2, 2, 7, 4, 1, 2, 8, 4, 7, 4, 4, 0, ...   \n",
       "10          11  [0, 2, 0, 2, 2, 7, 4, 1, 2, 8, 4, 7, 4, 4, 0, ...   \n",
       "11          12  [0, 2, 0, 2, 2, 7, 4, 1, 2, 8, 4, 7, 4, 4, 0, ...   \n",
       "12          13  [0, 12, 0, 12, 2, 7, 4, 1, 2, 8, 4, 7, 4, 4, 0...   \n",
       "13          14  [0, 12, 0, 12, 2, 7, 0, 1, 2, 8, 4, 13, 4, 4, ...   \n",
       "14          15  [0, 12, 0, 12, 2, 7, 14, 4, 2, 8, 14, 13, 4, 1...   \n",
       "15          16  [0, 12, 0, 12, 2, 7, 14, 2, 2, 8, 14, 13, 4, 1...   \n",
       "16          17  [0, 16, 0, 16, 2, 7, 14, 2, 2, 8, 14, 13, 4, 1...   \n",
       "17          18  [0, 16, 0, 16, 2, 7, 14, 2, 2, 8, 14, 13, 4, 1...   \n",
       "18          19  [0, 16, 0, 16, 2, 7, 14, 2, 2, 8, 14, 13, 4, 1...   \n",
       "19          20  [0, 16, 0, 16, 2, 7, 14, 2, 2, 8, 14, 13, 4, 1...   \n",
       "\n",
       "         inertia  \n",
       "0   38715.250000  \n",
       "1   25359.750000  \n",
       "2   18902.873047  \n",
       "3   16381.331055  \n",
       "4   12049.518555  \n",
       "5    9669.011719  \n",
       "6    8340.337891  \n",
       "7    6910.688477  \n",
       "8    5814.857422  \n",
       "9    5385.601074  \n",
       "10   4232.805664  \n",
       "11   3825.311768  \n",
       "12   3382.532227  \n",
       "13   3018.496826  \n",
       "14   2854.545410  \n",
       "15   2677.010010  \n",
       "16   2502.440918  \n",
       "17   2277.920898  \n",
       "18   2066.846436  \n",
       "19   1929.880127  "
      ]
     },
     "execution_count": 373,
     "metadata": {},
     "output_type": "execute_result"
    }
   ],
   "source": [
    "scaler = MinMaxScaler()\n",
    "X = scaler.fit_transform(np.array(table.drop(['Vendor Number'], axis=1)))\n",
    "\n",
    "tsne = TSNE(n_components=2, perplexity=15)\n",
    "embed_fit = tsne.fit_transform(X)\n",
    "\n",
    "names = list(table['Vendor Number'])\n",
    "\n",
    "history = []\n",
    "for i in range(20):\n",
    "    kmeans = KMeans(n_clusters=i+1, random_state=0, n_init='auto').fit(embed_fit)\n",
    "    labels = kmeans.labels_\n",
    "    inertia = kmeans.inertia_\n",
    "    history.append([(i+1), labels, inertia])\n",
    "\n",
    "history = pd.DataFrame(history, columns=['n_clusters', 'labels', 'inertia'])\n",
    "history"
   ]
  },
  {
   "cell_type": "code",
   "execution_count": 374,
   "metadata": {},
   "outputs": [
    {
     "data": {
      "application/vnd.plotly.v1+json": {
       "config": {
        "plotlyServerURL": "https://plot.ly"
       },
       "data": [
        {
         "hovertemplate": "n_clusters=%{x}<br>inertia=%{y}<extra></extra>",
         "legendgroup": "",
         "line": {
          "color": "#636efa",
          "dash": "solid"
         },
         "marker": {
          "symbol": "circle"
         },
         "mode": "lines",
         "name": "",
         "orientation": "v",
         "showlegend": false,
         "type": "scatter",
         "x": [
          1,
          2,
          3,
          4,
          5,
          6,
          7,
          8,
          9,
          10,
          11,
          12,
          13,
          14,
          15,
          16,
          17,
          18,
          19,
          20
         ],
         "xaxis": "x",
         "y": [
          38715.25,
          25359.75,
          18902.873046875,
          16381.3310546875,
          12049.5185546875,
          9669.01171875,
          8340.337890625,
          6910.6884765625,
          5814.857421875,
          5385.60107421875,
          4232.8056640625,
          3825.311767578125,
          3382.5322265625,
          3018.496826171875,
          2854.54541015625,
          2677.010009765625,
          2502.44091796875,
          2277.9208984375,
          2066.846435546875,
          1929.880126953125
         ],
         "yaxis": "y"
        }
       ],
       "layout": {
        "legend": {
         "tracegroupgap": 0
        },
        "margin": {
         "t": 60
        },
        "template": {
         "data": {
          "bar": [
           {
            "error_x": {
             "color": "#2a3f5f"
            },
            "error_y": {
             "color": "#2a3f5f"
            },
            "marker": {
             "line": {
              "color": "#E5ECF6",
              "width": 0.5
             },
             "pattern": {
              "fillmode": "overlay",
              "size": 10,
              "solidity": 0.2
             }
            },
            "type": "bar"
           }
          ],
          "barpolar": [
           {
            "marker": {
             "line": {
              "color": "#E5ECF6",
              "width": 0.5
             },
             "pattern": {
              "fillmode": "overlay",
              "size": 10,
              "solidity": 0.2
             }
            },
            "type": "barpolar"
           }
          ],
          "carpet": [
           {
            "aaxis": {
             "endlinecolor": "#2a3f5f",
             "gridcolor": "white",
             "linecolor": "white",
             "minorgridcolor": "white",
             "startlinecolor": "#2a3f5f"
            },
            "baxis": {
             "endlinecolor": "#2a3f5f",
             "gridcolor": "white",
             "linecolor": "white",
             "minorgridcolor": "white",
             "startlinecolor": "#2a3f5f"
            },
            "type": "carpet"
           }
          ],
          "choropleth": [
           {
            "colorbar": {
             "outlinewidth": 0,
             "ticks": ""
            },
            "type": "choropleth"
           }
          ],
          "contour": [
           {
            "colorbar": {
             "outlinewidth": 0,
             "ticks": ""
            },
            "colorscale": [
             [
              0,
              "#0d0887"
             ],
             [
              0.1111111111111111,
              "#46039f"
             ],
             [
              0.2222222222222222,
              "#7201a8"
             ],
             [
              0.3333333333333333,
              "#9c179e"
             ],
             [
              0.4444444444444444,
              "#bd3786"
             ],
             [
              0.5555555555555556,
              "#d8576b"
             ],
             [
              0.6666666666666666,
              "#ed7953"
             ],
             [
              0.7777777777777778,
              "#fb9f3a"
             ],
             [
              0.8888888888888888,
              "#fdca26"
             ],
             [
              1,
              "#f0f921"
             ]
            ],
            "type": "contour"
           }
          ],
          "contourcarpet": [
           {
            "colorbar": {
             "outlinewidth": 0,
             "ticks": ""
            },
            "type": "contourcarpet"
           }
          ],
          "heatmap": [
           {
            "colorbar": {
             "outlinewidth": 0,
             "ticks": ""
            },
            "colorscale": [
             [
              0,
              "#0d0887"
             ],
             [
              0.1111111111111111,
              "#46039f"
             ],
             [
              0.2222222222222222,
              "#7201a8"
             ],
             [
              0.3333333333333333,
              "#9c179e"
             ],
             [
              0.4444444444444444,
              "#bd3786"
             ],
             [
              0.5555555555555556,
              "#d8576b"
             ],
             [
              0.6666666666666666,
              "#ed7953"
             ],
             [
              0.7777777777777778,
              "#fb9f3a"
             ],
             [
              0.8888888888888888,
              "#fdca26"
             ],
             [
              1,
              "#f0f921"
             ]
            ],
            "type": "heatmap"
           }
          ],
          "heatmapgl": [
           {
            "colorbar": {
             "outlinewidth": 0,
             "ticks": ""
            },
            "colorscale": [
             [
              0,
              "#0d0887"
             ],
             [
              0.1111111111111111,
              "#46039f"
             ],
             [
              0.2222222222222222,
              "#7201a8"
             ],
             [
              0.3333333333333333,
              "#9c179e"
             ],
             [
              0.4444444444444444,
              "#bd3786"
             ],
             [
              0.5555555555555556,
              "#d8576b"
             ],
             [
              0.6666666666666666,
              "#ed7953"
             ],
             [
              0.7777777777777778,
              "#fb9f3a"
             ],
             [
              0.8888888888888888,
              "#fdca26"
             ],
             [
              1,
              "#f0f921"
             ]
            ],
            "type": "heatmapgl"
           }
          ],
          "histogram": [
           {
            "marker": {
             "pattern": {
              "fillmode": "overlay",
              "size": 10,
              "solidity": 0.2
             }
            },
            "type": "histogram"
           }
          ],
          "histogram2d": [
           {
            "colorbar": {
             "outlinewidth": 0,
             "ticks": ""
            },
            "colorscale": [
             [
              0,
              "#0d0887"
             ],
             [
              0.1111111111111111,
              "#46039f"
             ],
             [
              0.2222222222222222,
              "#7201a8"
             ],
             [
              0.3333333333333333,
              "#9c179e"
             ],
             [
              0.4444444444444444,
              "#bd3786"
             ],
             [
              0.5555555555555556,
              "#d8576b"
             ],
             [
              0.6666666666666666,
              "#ed7953"
             ],
             [
              0.7777777777777778,
              "#fb9f3a"
             ],
             [
              0.8888888888888888,
              "#fdca26"
             ],
             [
              1,
              "#f0f921"
             ]
            ],
            "type": "histogram2d"
           }
          ],
          "histogram2dcontour": [
           {
            "colorbar": {
             "outlinewidth": 0,
             "ticks": ""
            },
            "colorscale": [
             [
              0,
              "#0d0887"
             ],
             [
              0.1111111111111111,
              "#46039f"
             ],
             [
              0.2222222222222222,
              "#7201a8"
             ],
             [
              0.3333333333333333,
              "#9c179e"
             ],
             [
              0.4444444444444444,
              "#bd3786"
             ],
             [
              0.5555555555555556,
              "#d8576b"
             ],
             [
              0.6666666666666666,
              "#ed7953"
             ],
             [
              0.7777777777777778,
              "#fb9f3a"
             ],
             [
              0.8888888888888888,
              "#fdca26"
             ],
             [
              1,
              "#f0f921"
             ]
            ],
            "type": "histogram2dcontour"
           }
          ],
          "mesh3d": [
           {
            "colorbar": {
             "outlinewidth": 0,
             "ticks": ""
            },
            "type": "mesh3d"
           }
          ],
          "parcoords": [
           {
            "line": {
             "colorbar": {
              "outlinewidth": 0,
              "ticks": ""
             }
            },
            "type": "parcoords"
           }
          ],
          "pie": [
           {
            "automargin": true,
            "type": "pie"
           }
          ],
          "scatter": [
           {
            "fillpattern": {
             "fillmode": "overlay",
             "size": 10,
             "solidity": 0.2
            },
            "type": "scatter"
           }
          ],
          "scatter3d": [
           {
            "line": {
             "colorbar": {
              "outlinewidth": 0,
              "ticks": ""
             }
            },
            "marker": {
             "colorbar": {
              "outlinewidth": 0,
              "ticks": ""
             }
            },
            "type": "scatter3d"
           }
          ],
          "scattercarpet": [
           {
            "marker": {
             "colorbar": {
              "outlinewidth": 0,
              "ticks": ""
             }
            },
            "type": "scattercarpet"
           }
          ],
          "scattergeo": [
           {
            "marker": {
             "colorbar": {
              "outlinewidth": 0,
              "ticks": ""
             }
            },
            "type": "scattergeo"
           }
          ],
          "scattergl": [
           {
            "marker": {
             "colorbar": {
              "outlinewidth": 0,
              "ticks": ""
             }
            },
            "type": "scattergl"
           }
          ],
          "scattermapbox": [
           {
            "marker": {
             "colorbar": {
              "outlinewidth": 0,
              "ticks": ""
             }
            },
            "type": "scattermapbox"
           }
          ],
          "scatterpolar": [
           {
            "marker": {
             "colorbar": {
              "outlinewidth": 0,
              "ticks": ""
             }
            },
            "type": "scatterpolar"
           }
          ],
          "scatterpolargl": [
           {
            "marker": {
             "colorbar": {
              "outlinewidth": 0,
              "ticks": ""
             }
            },
            "type": "scatterpolargl"
           }
          ],
          "scatterternary": [
           {
            "marker": {
             "colorbar": {
              "outlinewidth": 0,
              "ticks": ""
             }
            },
            "type": "scatterternary"
           }
          ],
          "surface": [
           {
            "colorbar": {
             "outlinewidth": 0,
             "ticks": ""
            },
            "colorscale": [
             [
              0,
              "#0d0887"
             ],
             [
              0.1111111111111111,
              "#46039f"
             ],
             [
              0.2222222222222222,
              "#7201a8"
             ],
             [
              0.3333333333333333,
              "#9c179e"
             ],
             [
              0.4444444444444444,
              "#bd3786"
             ],
             [
              0.5555555555555556,
              "#d8576b"
             ],
             [
              0.6666666666666666,
              "#ed7953"
             ],
             [
              0.7777777777777778,
              "#fb9f3a"
             ],
             [
              0.8888888888888888,
              "#fdca26"
             ],
             [
              1,
              "#f0f921"
             ]
            ],
            "type": "surface"
           }
          ],
          "table": [
           {
            "cells": {
             "fill": {
              "color": "#EBF0F8"
             },
             "line": {
              "color": "white"
             }
            },
            "header": {
             "fill": {
              "color": "#C8D4E3"
             },
             "line": {
              "color": "white"
             }
            },
            "type": "table"
           }
          ]
         },
         "layout": {
          "annotationdefaults": {
           "arrowcolor": "#2a3f5f",
           "arrowhead": 0,
           "arrowwidth": 1
          },
          "autotypenumbers": "strict",
          "coloraxis": {
           "colorbar": {
            "outlinewidth": 0,
            "ticks": ""
           }
          },
          "colorscale": {
           "diverging": [
            [
             0,
             "#8e0152"
            ],
            [
             0.1,
             "#c51b7d"
            ],
            [
             0.2,
             "#de77ae"
            ],
            [
             0.3,
             "#f1b6da"
            ],
            [
             0.4,
             "#fde0ef"
            ],
            [
             0.5,
             "#f7f7f7"
            ],
            [
             0.6,
             "#e6f5d0"
            ],
            [
             0.7,
             "#b8e186"
            ],
            [
             0.8,
             "#7fbc41"
            ],
            [
             0.9,
             "#4d9221"
            ],
            [
             1,
             "#276419"
            ]
           ],
           "sequential": [
            [
             0,
             "#0d0887"
            ],
            [
             0.1111111111111111,
             "#46039f"
            ],
            [
             0.2222222222222222,
             "#7201a8"
            ],
            [
             0.3333333333333333,
             "#9c179e"
            ],
            [
             0.4444444444444444,
             "#bd3786"
            ],
            [
             0.5555555555555556,
             "#d8576b"
            ],
            [
             0.6666666666666666,
             "#ed7953"
            ],
            [
             0.7777777777777778,
             "#fb9f3a"
            ],
            [
             0.8888888888888888,
             "#fdca26"
            ],
            [
             1,
             "#f0f921"
            ]
           ],
           "sequentialminus": [
            [
             0,
             "#0d0887"
            ],
            [
             0.1111111111111111,
             "#46039f"
            ],
            [
             0.2222222222222222,
             "#7201a8"
            ],
            [
             0.3333333333333333,
             "#9c179e"
            ],
            [
             0.4444444444444444,
             "#bd3786"
            ],
            [
             0.5555555555555556,
             "#d8576b"
            ],
            [
             0.6666666666666666,
             "#ed7953"
            ],
            [
             0.7777777777777778,
             "#fb9f3a"
            ],
            [
             0.8888888888888888,
             "#fdca26"
            ],
            [
             1,
             "#f0f921"
            ]
           ]
          },
          "colorway": [
           "#636efa",
           "#EF553B",
           "#00cc96",
           "#ab63fa",
           "#FFA15A",
           "#19d3f3",
           "#FF6692",
           "#B6E880",
           "#FF97FF",
           "#FECB52"
          ],
          "font": {
           "color": "#2a3f5f"
          },
          "geo": {
           "bgcolor": "white",
           "lakecolor": "white",
           "landcolor": "#E5ECF6",
           "showlakes": true,
           "showland": true,
           "subunitcolor": "white"
          },
          "hoverlabel": {
           "align": "left"
          },
          "hovermode": "closest",
          "mapbox": {
           "style": "light"
          },
          "paper_bgcolor": "white",
          "plot_bgcolor": "#E5ECF6",
          "polar": {
           "angularaxis": {
            "gridcolor": "white",
            "linecolor": "white",
            "ticks": ""
           },
           "bgcolor": "#E5ECF6",
           "radialaxis": {
            "gridcolor": "white",
            "linecolor": "white",
            "ticks": ""
           }
          },
          "scene": {
           "xaxis": {
            "backgroundcolor": "#E5ECF6",
            "gridcolor": "white",
            "gridwidth": 2,
            "linecolor": "white",
            "showbackground": true,
            "ticks": "",
            "zerolinecolor": "white"
           },
           "yaxis": {
            "backgroundcolor": "#E5ECF6",
            "gridcolor": "white",
            "gridwidth": 2,
            "linecolor": "white",
            "showbackground": true,
            "ticks": "",
            "zerolinecolor": "white"
           },
           "zaxis": {
            "backgroundcolor": "#E5ECF6",
            "gridcolor": "white",
            "gridwidth": 2,
            "linecolor": "white",
            "showbackground": true,
            "ticks": "",
            "zerolinecolor": "white"
           }
          },
          "shapedefaults": {
           "line": {
            "color": "#2a3f5f"
           }
          },
          "ternary": {
           "aaxis": {
            "gridcolor": "white",
            "linecolor": "white",
            "ticks": ""
           },
           "baxis": {
            "gridcolor": "white",
            "linecolor": "white",
            "ticks": ""
           },
           "bgcolor": "#E5ECF6",
           "caxis": {
            "gridcolor": "white",
            "linecolor": "white",
            "ticks": ""
           }
          },
          "title": {
           "x": 0.05
          },
          "xaxis": {
           "automargin": true,
           "gridcolor": "white",
           "linecolor": "white",
           "ticks": "",
           "title": {
            "standoff": 15
           },
           "zerolinecolor": "white",
           "zerolinewidth": 2
          },
          "yaxis": {
           "automargin": true,
           "gridcolor": "white",
           "linecolor": "white",
           "ticks": "",
           "title": {
            "standoff": 15
           },
           "zerolinecolor": "white",
           "zerolinewidth": 2
          }
         }
        },
        "xaxis": {
         "anchor": "y",
         "domain": [
          0,
          1
         ],
         "title": {
          "text": "n_clusters"
         }
        },
        "yaxis": {
         "anchor": "x",
         "domain": [
          0,
          1
         ],
         "title": {
          "text": "inertia"
         }
        }
       }
      }
     },
     "metadata": {},
     "output_type": "display_data"
    }
   ],
   "source": [
    "px.line(history, x='n_clusters', y='inertia')\n",
    "# Looks like 6 clusters forms an elbow."
   ]
  },
  {
   "cell_type": "code",
   "execution_count": 376,
   "metadata": {},
   "outputs": [
    {
     "data": {
      "text/html": [
       "<div>\n",
       "<style scoped>\n",
       "    .dataframe tbody tr th:only-of-type {\n",
       "        vertical-align: middle;\n",
       "    }\n",
       "\n",
       "    .dataframe tbody tr th {\n",
       "        vertical-align: top;\n",
       "    }\n",
       "\n",
       "    .dataframe thead th {\n",
       "        text-align: right;\n",
       "    }\n",
       "</style>\n",
       "<table border=\"1\" class=\"dataframe\">\n",
       "  <thead>\n",
       "    <tr style=\"text-align: right;\">\n",
       "      <th></th>\n",
       "      <th>Brand</th>\n",
       "      <th>label</th>\n",
       "      <th>X</th>\n",
       "      <th>Y</th>\n",
       "    </tr>\n",
       "  </thead>\n",
       "  <tbody>\n",
       "    <tr>\n",
       "      <th>0</th>\n",
       "      <td>35</td>\n",
       "      <td>0</td>\n",
       "      <td>13.096414</td>\n",
       "      <td>-11.158235</td>\n",
       "    </tr>\n",
       "    <tr>\n",
       "      <th>1</th>\n",
       "      <td>65</td>\n",
       "      <td>2</td>\n",
       "      <td>9.571241</td>\n",
       "      <td>13.767727</td>\n",
       "    </tr>\n",
       "    <tr>\n",
       "      <th>2</th>\n",
       "      <td>79</td>\n",
       "      <td>0</td>\n",
       "      <td>7.180951</td>\n",
       "      <td>-11.852859</td>\n",
       "    </tr>\n",
       "    <tr>\n",
       "      <th>3</th>\n",
       "      <td>85</td>\n",
       "      <td>2</td>\n",
       "      <td>7.223012</td>\n",
       "      <td>13.526455</td>\n",
       "    </tr>\n",
       "    <tr>\n",
       "      <th>4</th>\n",
       "      <td>86</td>\n",
       "      <td>2</td>\n",
       "      <td>-0.981392</td>\n",
       "      <td>8.943797</td>\n",
       "    </tr>\n",
       "    <tr>\n",
       "      <th>...</th>\n",
       "      <td>...</td>\n",
       "      <td>...</td>\n",
       "      <td>...</td>\n",
       "      <td>...</td>\n",
       "    </tr>\n",
       "    <tr>\n",
       "      <th>202</th>\n",
       "      <td>888</td>\n",
       "      <td>5</td>\n",
       "      <td>-3.376833</td>\n",
       "      <td>-3.281034</td>\n",
       "    </tr>\n",
       "    <tr>\n",
       "      <th>203</th>\n",
       "      <td>892</td>\n",
       "      <td>3</td>\n",
       "      <td>62.441910</td>\n",
       "      <td>-14.279376</td>\n",
       "    </tr>\n",
       "    <tr>\n",
       "      <th>204</th>\n",
       "      <td>962</td>\n",
       "      <td>1</td>\n",
       "      <td>-24.810898</td>\n",
       "      <td>2.459368</td>\n",
       "    </tr>\n",
       "    <tr>\n",
       "      <th>205</th>\n",
       "      <td>971</td>\n",
       "      <td>4</td>\n",
       "      <td>-6.952044</td>\n",
       "      <td>-7.169895</td>\n",
       "    </tr>\n",
       "    <tr>\n",
       "      <th>206</th>\n",
       "      <td>978</td>\n",
       "      <td>1</td>\n",
       "      <td>-9.688506</td>\n",
       "      <td>11.499908</td>\n",
       "    </tr>\n",
       "  </tbody>\n",
       "</table>\n",
       "<p>207 rows × 4 columns</p>\n",
       "</div>"
      ],
      "text/plain": [
       "     Brand  label          X          Y\n",
       "0       35      0  13.096414 -11.158235\n",
       "1       65      2   9.571241  13.767727\n",
       "2       79      0   7.180951 -11.852859\n",
       "3       85      2   7.223012  13.526455\n",
       "4       86      2  -0.981392   8.943797\n",
       "..     ...    ...        ...        ...\n",
       "202    888      5  -3.376833  -3.281034\n",
       "203    892      3  62.441910 -14.279376\n",
       "204    962      1 -24.810898   2.459368\n",
       "205    971      4  -6.952044  -7.169895\n",
       "206    978      1  -9.688506  11.499908\n",
       "\n",
       "[207 rows x 4 columns]"
      ]
     },
     "execution_count": 376,
     "metadata": {},
     "output_type": "execute_result"
    }
   ],
   "source": [
    "labels = history.loc[history['n_clusters'] == 6]['labels'].values[0]\n",
    "\n",
    "data_labels = []\n",
    "try:\n",
    "    for i in range(len(names)):\n",
    "        data_labels.append([names[i], labels[i], embed_fit[i][0], embed_fit[i][1], embed_fit[i][2]])\n",
    "\n",
    "    data_labels = pd.DataFrame(data_labels, columns=['Brand', 'label', \"X\", \"Y\", \"Z\"])\n",
    "except IndexError:\n",
    "    for i in range(len(names)):\n",
    "        data_labels.append([names[i], labels[i], embed_fit[i][0], embed_fit[i][1]])\n",
    "\n",
    "    data_labels = pd.DataFrame(data_labels, columns=['Brand', 'label', \"X\", \"Y\"])\n",
    "\n",
    "data_labels"
   ]
  },
  {
   "cell_type": "code",
   "execution_count": 377,
   "metadata": {},
   "outputs": [
    {
     "data": {
      "text/html": [
       "<div>\n",
       "<style scoped>\n",
       "    .dataframe tbody tr th:only-of-type {\n",
       "        vertical-align: middle;\n",
       "    }\n",
       "\n",
       "    .dataframe tbody tr th {\n",
       "        vertical-align: top;\n",
       "    }\n",
       "\n",
       "    .dataframe thead th {\n",
       "        text-align: right;\n",
       "    }\n",
       "</style>\n",
       "<table border=\"1\" class=\"dataframe\">\n",
       "  <thead>\n",
       "    <tr style=\"text-align: right;\">\n",
       "      <th></th>\n",
       "      <th>Brand</th>\n",
       "      <th>label</th>\n",
       "      <th>X</th>\n",
       "      <th>Y</th>\n",
       "    </tr>\n",
       "  </thead>\n",
       "  <tbody>\n",
       "    <tr>\n",
       "      <th>0</th>\n",
       "      <td>35</td>\n",
       "      <td>0</td>\n",
       "      <td>13.096414</td>\n",
       "      <td>-11.158235</td>\n",
       "    </tr>\n",
       "  </tbody>\n",
       "</table>\n",
       "</div>"
      ],
      "text/plain": [
       "   Brand  label          X          Y\n",
       "0     35      0  13.096414 -11.158235"
      ]
     },
     "metadata": {},
     "output_type": "display_data"
    },
    {
     "data": {
      "text/html": [
       "<div>\n",
       "<style scoped>\n",
       "    .dataframe tbody tr th:only-of-type {\n",
       "        vertical-align: middle;\n",
       "    }\n",
       "\n",
       "    .dataframe tbody tr th {\n",
       "        vertical-align: top;\n",
       "    }\n",
       "\n",
       "    .dataframe thead th {\n",
       "        text-align: right;\n",
       "    }\n",
       "</style>\n",
       "<table border=\"1\" class=\"dataframe\">\n",
       "  <thead>\n",
       "    <tr style=\"text-align: right;\">\n",
       "      <th></th>\n",
       "      <th>Brand</th>\n",
       "      <th>label</th>\n",
       "      <th>X</th>\n",
       "      <th>Y</th>\n",
       "    </tr>\n",
       "  </thead>\n",
       "  <tbody>\n",
       "    <tr>\n",
       "      <th>0</th>\n",
       "      <td>35</td>\n",
       "      <td>0</td>\n",
       "      <td>13.096414</td>\n",
       "      <td>-11.158235</td>\n",
       "    </tr>\n",
       "    <tr>\n",
       "      <th>2</th>\n",
       "      <td>79</td>\n",
       "      <td>0</td>\n",
       "      <td>7.180951</td>\n",
       "      <td>-11.852859</td>\n",
       "    </tr>\n",
       "    <tr>\n",
       "      <th>5</th>\n",
       "      <td>90</td>\n",
       "      <td>0</td>\n",
       "      <td>21.180414</td>\n",
       "      <td>2.278597</td>\n",
       "    </tr>\n",
       "    <tr>\n",
       "      <th>14</th>\n",
       "      <td>121</td>\n",
       "      <td>0</td>\n",
       "      <td>4.686493</td>\n",
       "      <td>-10.897576</td>\n",
       "    </tr>\n",
       "    <tr>\n",
       "      <th>18</th>\n",
       "      <td>154</td>\n",
       "      <td>0</td>\n",
       "      <td>11.193355</td>\n",
       "      <td>-10.645796</td>\n",
       "    </tr>\n",
       "    <tr>\n",
       "      <th>30</th>\n",
       "      <td>214</td>\n",
       "      <td>0</td>\n",
       "      <td>10.122962</td>\n",
       "      <td>-5.547506</td>\n",
       "    </tr>\n",
       "    <tr>\n",
       "      <th>33</th>\n",
       "      <td>217</td>\n",
       "      <td>0</td>\n",
       "      <td>16.946339</td>\n",
       "      <td>-1.895073</td>\n",
       "    </tr>\n",
       "    <tr>\n",
       "      <th>34</th>\n",
       "      <td>229</td>\n",
       "      <td>0</td>\n",
       "      <td>6.917409</td>\n",
       "      <td>-14.306814</td>\n",
       "    </tr>\n",
       "    <tr>\n",
       "      <th>36</th>\n",
       "      <td>232</td>\n",
       "      <td>0</td>\n",
       "      <td>5.341869</td>\n",
       "      <td>-10.057987</td>\n",
       "    </tr>\n",
       "    <tr>\n",
       "      <th>38</th>\n",
       "      <td>239</td>\n",
       "      <td>0</td>\n",
       "      <td>18.927227</td>\n",
       "      <td>-1.875926</td>\n",
       "    </tr>\n",
       "    <tr>\n",
       "      <th>48</th>\n",
       "      <td>277</td>\n",
       "      <td>0</td>\n",
       "      <td>20.741785</td>\n",
       "      <td>2.026720</td>\n",
       "    </tr>\n",
       "    <tr>\n",
       "      <th>53</th>\n",
       "      <td>293</td>\n",
       "      <td>0</td>\n",
       "      <td>10.281656</td>\n",
       "      <td>-0.786544</td>\n",
       "    </tr>\n",
       "    <tr>\n",
       "      <th>66</th>\n",
       "      <td>338</td>\n",
       "      <td>0</td>\n",
       "      <td>4.937415</td>\n",
       "      <td>-12.226237</td>\n",
       "    </tr>\n",
       "    <tr>\n",
       "      <th>67</th>\n",
       "      <td>341</td>\n",
       "      <td>0</td>\n",
       "      <td>24.039907</td>\n",
       "      <td>-10.404620</td>\n",
       "    </tr>\n",
       "    <tr>\n",
       "      <th>69</th>\n",
       "      <td>346</td>\n",
       "      <td>0</td>\n",
       "      <td>11.948783</td>\n",
       "      <td>-7.094973</td>\n",
       "    </tr>\n",
       "    <tr>\n",
       "      <th>72</th>\n",
       "      <td>357</td>\n",
       "      <td>0</td>\n",
       "      <td>11.065194</td>\n",
       "      <td>-4.285190</td>\n",
       "    </tr>\n",
       "    <tr>\n",
       "      <th>77</th>\n",
       "      <td>384</td>\n",
       "      <td>0</td>\n",
       "      <td>23.768072</td>\n",
       "      <td>-14.487531</td>\n",
       "    </tr>\n",
       "    <tr>\n",
       "      <th>91</th>\n",
       "      <td>434</td>\n",
       "      <td>0</td>\n",
       "      <td>12.354250</td>\n",
       "      <td>-10.908145</td>\n",
       "    </tr>\n",
       "    <tr>\n",
       "      <th>105</th>\n",
       "      <td>481</td>\n",
       "      <td>0</td>\n",
       "      <td>11.919288</td>\n",
       "      <td>-5.764232</td>\n",
       "    </tr>\n",
       "    <tr>\n",
       "      <th>113</th>\n",
       "      <td>536</td>\n",
       "      <td>0</td>\n",
       "      <td>6.902999</td>\n",
       "      <td>-10.817317</td>\n",
       "    </tr>\n",
       "    <tr>\n",
       "      <th>115</th>\n",
       "      <td>540</td>\n",
       "      <td>0</td>\n",
       "      <td>24.839186</td>\n",
       "      <td>-14.907789</td>\n",
       "    </tr>\n",
       "    <tr>\n",
       "      <th>116</th>\n",
       "      <td>545</td>\n",
       "      <td>0</td>\n",
       "      <td>9.853902</td>\n",
       "      <td>-0.101085</td>\n",
       "    </tr>\n",
       "    <tr>\n",
       "      <th>118</th>\n",
       "      <td>549</td>\n",
       "      <td>0</td>\n",
       "      <td>30.513699</td>\n",
       "      <td>-18.914705</td>\n",
       "    </tr>\n",
       "    <tr>\n",
       "      <th>123</th>\n",
       "      <td>564</td>\n",
       "      <td>0</td>\n",
       "      <td>6.600577</td>\n",
       "      <td>-12.151972</td>\n",
       "    </tr>\n",
       "    <tr>\n",
       "      <th>124</th>\n",
       "      <td>566</td>\n",
       "      <td>0</td>\n",
       "      <td>6.743837</td>\n",
       "      <td>-13.575407</td>\n",
       "    </tr>\n",
       "    <tr>\n",
       "      <th>134</th>\n",
       "      <td>606</td>\n",
       "      <td>0</td>\n",
       "      <td>8.550538</td>\n",
       "      <td>-11.563135</td>\n",
       "    </tr>\n",
       "    <tr>\n",
       "      <th>144</th>\n",
       "      <td>626</td>\n",
       "      <td>0</td>\n",
       "      <td>10.299293</td>\n",
       "      <td>-7.014874</td>\n",
       "    </tr>\n",
       "    <tr>\n",
       "      <th>155</th>\n",
       "      <td>654</td>\n",
       "      <td>0</td>\n",
       "      <td>9.442316</td>\n",
       "      <td>-11.225750</td>\n",
       "    </tr>\n",
       "    <tr>\n",
       "      <th>157</th>\n",
       "      <td>657</td>\n",
       "      <td>0</td>\n",
       "      <td>19.007366</td>\n",
       "      <td>-1.901552</td>\n",
       "    </tr>\n",
       "    <tr>\n",
       "      <th>174</th>\n",
       "      <td>742</td>\n",
       "      <td>0</td>\n",
       "      <td>23.089354</td>\n",
       "      <td>-14.411868</td>\n",
       "    </tr>\n",
       "    <tr>\n",
       "      <th>181</th>\n",
       "      <td>755</td>\n",
       "      <td>0</td>\n",
       "      <td>10.992063</td>\n",
       "      <td>-5.278748</td>\n",
       "    </tr>\n",
       "    <tr>\n",
       "      <th>189</th>\n",
       "      <td>777</td>\n",
       "      <td>0</td>\n",
       "      <td>9.699818</td>\n",
       "      <td>-7.510535</td>\n",
       "    </tr>\n",
       "  </tbody>\n",
       "</table>\n",
       "</div>"
      ],
      "text/plain": [
       "     Brand  label          X          Y\n",
       "0       35      0  13.096414 -11.158235\n",
       "2       79      0   7.180951 -11.852859\n",
       "5       90      0  21.180414   2.278597\n",
       "14     121      0   4.686493 -10.897576\n",
       "18     154      0  11.193355 -10.645796\n",
       "30     214      0  10.122962  -5.547506\n",
       "33     217      0  16.946339  -1.895073\n",
       "34     229      0   6.917409 -14.306814\n",
       "36     232      0   5.341869 -10.057987\n",
       "38     239      0  18.927227  -1.875926\n",
       "48     277      0  20.741785   2.026720\n",
       "53     293      0  10.281656  -0.786544\n",
       "66     338      0   4.937415 -12.226237\n",
       "67     341      0  24.039907 -10.404620\n",
       "69     346      0  11.948783  -7.094973\n",
       "72     357      0  11.065194  -4.285190\n",
       "77     384      0  23.768072 -14.487531\n",
       "91     434      0  12.354250 -10.908145\n",
       "105    481      0  11.919288  -5.764232\n",
       "113    536      0   6.902999 -10.817317\n",
       "115    540      0  24.839186 -14.907789\n",
       "116    545      0   9.853902  -0.101085\n",
       "118    549      0  30.513699 -18.914705\n",
       "123    564      0   6.600577 -12.151972\n",
       "124    566      0   6.743837 -13.575407\n",
       "134    606      0   8.550538 -11.563135\n",
       "144    626      0  10.299293  -7.014874\n",
       "155    654      0   9.442316 -11.225750\n",
       "157    657      0  19.007366  -1.901552\n",
       "174    742      0  23.089354 -14.411868\n",
       "181    755      0  10.992063  -5.278748\n",
       "189    777      0   9.699818  -7.510535"
      ]
     },
     "metadata": {},
     "output_type": "display_data"
    }
   ],
   "source": [
    "n = int(data_labels.loc[data_labels['Brand'] == 35]['label'].values)\n",
    "display(data_labels.loc[data_labels['Brand'] == 35])\n",
    "display(data_labels.loc[data_labels['label'] == n])"
   ]
  },
  {
   "cell_type": "code",
   "execution_count": 378,
   "metadata": {},
   "outputs": [
    {
     "data": {
      "application/vnd.plotly.v1+json": {
       "config": {
        "plotlyServerURL": "https://plot.ly"
       },
       "data": [
        {
         "customdata": [
          [
           35
          ],
          [
           65
          ],
          [
           79
          ],
          [
           85
          ],
          [
           86
          ],
          [
           90
          ],
          [
           91
          ],
          [
           100
          ],
          [
           108
          ],
          [
           110
          ],
          [
           114
          ],
          [
           115
          ],
          [
           116
          ],
          [
           118
          ],
          [
           121
          ],
          [
           125
          ],
          [
           130
          ],
          [
           150
          ],
          [
           154
          ],
          [
           163
          ],
          [
           164
          ],
          [
           184
          ],
          [
           187
          ],
          [
           192
          ],
          [
           195
          ],
          [
           198
          ],
          [
           204
          ],
          [
           205
          ],
          [
           208
          ],
          [
           209
          ],
          [
           214
          ],
          [
           215
          ],
          [
           216
          ],
          [
           217
          ],
          [
           229
          ],
          [
           231
          ],
          [
           232
          ],
          [
           235
          ],
          [
           239
          ],
          [
           240
          ],
          [
           254
          ],
          [
           255
          ],
          [
           259
          ],
          [
           260
          ],
          [
           261
          ],
          [
           266
          ],
          [
           268
          ],
          [
           273
          ],
          [
           277
          ],
          [
           280
          ],
          [
           283
          ],
          [
           285
          ],
          [
           287
          ],
          [
           293
          ],
          [
           297
          ],
          [
           300
          ],
          [
           301
          ],
          [
           305
          ],
          [
           306
          ],
          [
           308
          ],
          [
           311
          ],
          [
           315
          ],
          [
           322
          ],
          [
           325
          ],
          [
           334
          ],
          [
           336
          ],
          [
           338
          ],
          [
           341
          ],
          [
           342
          ],
          [
           346
          ],
          [
           347
          ],
          [
           353
          ],
          [
           357
          ],
          [
           363
          ],
          [
           368
          ],
          [
           370
          ],
          [
           380
          ],
          [
           384
          ],
          [
           389
          ],
          [
           390
          ],
          [
           391
          ],
          [
           394
          ],
          [
           395
          ],
          [
           398
          ],
          [
           402
          ],
          [
           414
          ],
          [
           415
          ],
          [
           420
          ],
          [
           421
          ],
          [
           422
          ],
          [
           428
          ],
          [
           434
          ],
          [
           437
          ],
          [
           439
          ],
          [
           443
          ],
          [
           448
          ],
          [
           451
          ],
          [
           454
          ],
          [
           459
          ],
          [
           460
          ],
          [
           469
          ],
          [
           472
          ],
          [
           477
          ],
          [
           478
          ],
          [
           479
          ],
          [
           481
          ],
          [
           482
          ],
          [
           492
          ],
          [
           493
          ],
          [
           497
          ],
          [
           511
          ],
          [
           521
          ],
          [
           525
          ],
          [
           536
          ],
          [
           539
          ],
          [
           540
          ],
          [
           545
          ],
          [
           547
          ],
          [
           549
          ],
          [
           557
          ],
          [
           558
          ],
          [
           560
          ],
          [
           561
          ],
          [
           564
          ],
          [
           566
          ],
          [
           569
          ],
          [
           573
          ],
          [
           574
          ],
          [
           578
          ],
          [
           580
          ],
          [
           583
          ],
          [
           584
          ],
          [
           589
          ],
          [
           594
          ],
          [
           606
          ],
          [
           607
          ],
          [
           608
          ],
          [
           609
          ],
          [
           611
          ],
          [
           617
          ],
          [
           618
          ],
          [
           619
          ],
          [
           620
          ],
          [
           625
          ],
          [
           626
          ],
          [
           631
          ],
          [
           633
          ],
          [
           634
          ],
          [
           636
          ],
          [
           641
          ],
          [
           642
          ],
          [
           645
          ],
          [
           647
          ],
          [
           649
          ],
          [
           650
          ],
          [
           654
          ],
          [
           655
          ],
          [
           657
          ],
          [
           659
          ],
          [
           661
          ],
          [
           662
          ],
          [
           671
          ],
          [
           673
          ],
          [
           677
          ],
          [
           684
          ],
          [
           688
          ],
          [
           690
          ],
          [
           698
          ],
          [
           702
          ],
          [
           705
          ],
          [
           706
          ],
          [
           712
          ],
          [
           727
          ],
          [
           736
          ],
          [
           742
          ],
          [
           747
          ],
          [
           749
          ],
          [
           751
          ],
          [
           752
          ],
          [
           753
          ],
          [
           754
          ],
          [
           755
          ],
          [
           758
          ],
          [
           764
          ],
          [
           766
          ],
          [
           768
          ],
          [
           770
          ],
          [
           772
          ],
          [
           775
          ],
          [
           777
          ],
          [
           779
          ],
          [
           780
          ],
          [
           781
          ],
          [
           785
          ],
          [
           786
          ],
          [
           789
          ],
          [
           792
          ],
          [
           793
          ],
          [
           796
          ],
          [
           797
          ],
          [
           803
          ],
          [
           886
          ],
          [
           888
          ],
          [
           892
          ],
          [
           962
          ],
          [
           971
          ],
          [
           978
          ]
         ],
         "hovertemplate": "X=%{x}<br>Y=%{y}<br>Brand=%{customdata[0]}<br>label=%{marker.color}<extra></extra>",
         "legendgroup": "",
         "marker": {
          "color": [
           0,
           2,
           0,
           2,
           2,
           0,
           5,
           5,
           2,
           1,
           5,
           2,
           5,
           5,
           0,
           2,
           4,
           4,
           0,
           1,
           2,
           2,
           5,
           4,
           5,
           2,
           5,
           1,
           5,
           4,
           0,
           5,
           5,
           0,
           0,
           5,
           0,
           1,
           0,
           2,
           5,
           2,
           2,
           2,
           4,
           4,
           4,
           1,
           0,
           5,
           5,
           4,
           2,
           0,
           2,
           1,
           5,
           4,
           2,
           4,
           5,
           2,
           4,
           1,
           4,
           5,
           0,
           0,
           5,
           0,
           1,
           5,
           0,
           1,
           4,
           2,
           1,
           0,
           4,
           2,
           4,
           4,
           4,
           5,
           5,
           4,
           4,
           2,
           4,
           2,
           2,
           0,
           4,
           1,
           1,
           2,
           1,
           5,
           5,
           1,
           2,
           1,
           5,
           1,
           5,
           0,
           1,
           2,
           2,
           1,
           2,
           4,
           1,
           0,
           2,
           0,
           0,
           5,
           0,
           4,
           1,
           5,
           1,
           0,
           0,
           2,
           1,
           5,
           2,
           1,
           5,
           5,
           5,
           5,
           0,
           5,
           5,
           5,
           1,
           5,
           5,
           4,
           1,
           2,
           0,
           5,
           4,
           5,
           5,
           1,
           5,
           2,
           2,
           5,
           5,
           0,
           5,
           0,
           5,
           2,
           5,
           2,
           5,
           5,
           2,
           2,
           2,
           5,
           5,
           5,
           2,
           2,
           1,
           5,
           0,
           1,
           5,
           5,
           5,
           5,
           5,
           0,
           2,
           4,
           5,
           2,
           2,
           4,
           1,
           0,
           1,
           5,
           5,
           1,
           2,
           5,
           5,
           5,
           5,
           4,
           4,
           2,
           5,
           3,
           1,
           4,
           1
          ],
          "coloraxis": "coloraxis",
          "symbol": "circle"
         },
         "mode": "markers",
         "name": "",
         "orientation": "v",
         "showlegend": false,
         "type": "scatter",
         "x": [
          13.096413612365723,
          9.57124137878418,
          7.180951118469238,
          7.223012447357178,
          -0.981391966342926,
          21.1804141998291,
          5.828481197357178,
          -0.09429068118333817,
          1.8904715776443481,
          -10.78608226776123,
          2.343817949295044,
          10.853414535522461,
          2.6339595317840576,
          -1.9537172317504883,
          4.686492919921875,
          6.639185428619385,
          -12.058996200561523,
          -5.558355808258057,
          11.193354606628418,
          -14.031996726989746,
          7.2329630851745605,
          7.783988952636719,
          3.7542777061462402,
          -13.62939739227295,
          -0.7020803093910217,
          2.668522596359253,
          4.409724712371826,
          -12.205147743225098,
          -0.7020803093910217,
          -13.422646522521973,
          10.12296199798584,
          -1.8161951303482056,
          -2.60976505279541,
          16.946338653564453,
          6.917409420013428,
          0.848057746887207,
          5.341868877410889,
          -10.873302459716797,
          18.927227020263672,
          13.328534126281738,
          0.848057746887207,
          14.210719108581543,
          8.904688835144043,
          13.94880199432373,
          -17.10115623474121,
          -9.945923805236816,
          -9.918135643005371,
          -11.913207054138184,
          20.741785049438477,
          -0.5672510266304016,
          0.848057746887207,
          -9.446584701538086,
          7.386303901672363,
          10.281656265258789,
          12.875312805175781,
          -3.5040550231933594,
          0.2998088002204895,
          -15.048644065856934,
          -1.854742407798767,
          -8.74653434753418,
          -1.6017125844955444,
          8.007967948913574,
          -6.617586612701416,
          -10.605953216552734,
          -17.103261947631836,
          -3.869581699371338,
          4.937414646148682,
          24.039907455444336,
          -6.258563995361328,
          11.948782920837402,
          -7.129379749298096,
          7.414932727813721,
          11.065194129943848,
          -10.342364311218262,
          -12.96156120300293,
          11.792807579040527,
          -10.782621383666992,
          23.7680721282959,
          -10.3004789352417,
          34.077301025390625,
          -10.371599197387695,
          -23.868492126464844,
          -11.191128730773926,
          -2.1742711067199707,
          -0.7915464043617249,
          -16.308820724487305,
          -3.083867073059082,
          12.816971778869629,
          -11.660449028015137,
          4.222304344177246,
          2.547337055206299,
          12.354249954223633,
          -5.977910041809082,
          -11.780864715576172,
          -16.965951919555664,
          5.88571834564209,
          -11.743377685546875,
          0.9719041585922241,
          -1.7240877151489258,
          -12.293171882629395,
          3.1074979305267334,
          -12.566990852355957,
          -7.138093948364258,
          -14.286188125610352,
          2.9960885047912598,
          11.91928768157959,
          -11.008674621582031,
          13.401895523071289,
          7.116435527801514,
          -7.1296281814575195,
          2.8254635334014893,
          -23.504436492919922,
          -8.020065307617188,
          6.902999401092529,
          2.638399839401245,
          24.83918571472168,
          9.853901863098145,
          0.1057363897562027,
          30.51369857788086,
          -5.5075364112854,
          -11.057385444641113,
          -1.8545475006103516,
          -13.718526840209961,
          6.600577354431152,
          6.743836879730225,
          2.2867085933685303,
          -4.003745079040527,
          2.1251296997070312,
          8.60546875,
          -13.127188682556152,
          -5.534144878387451,
          -0.014124439097940922,
          0.3741527795791626,
          1.46336829662323,
          8.550538063049316,
          3.6582846641540527,
          1.6938263177871704,
          6.256748199462891,
          -11.046053886413574,
          -2.810389518737793,
          -0.9418912529945374,
          -11.472018241882324,
          -17.474834442138672,
          -0.30862948298454285,
          10.29929256439209,
          3.7351770401000977,
          -7.926975250244141,
          -1.8259806632995605,
          -0.8737818598747253,
          -4.381714344024658,
          7.3536882400512695,
          5.665793418884277,
          4.991336822509766,
          -3.0338878631591797,
          4.399283409118652,
          9.442316055297852,
          0.7671886682510376,
          19.007366180419922,
          -1.888270616531372,
          -0.841260552406311,
          0.5102413296699524,
          -2.320960521697998,
          1.6290725469589233,
          -0.6172456741333008,
          6.456756591796875,
          -1.8147516250610352,
          0.8458696007728577,
          1.9031972885131836,
          -1.569106936454773,
          3.925262212753296,
          2.345280885696411,
          8.99282169342041,
          -18.05156898498535,
          3.0615639686584473,
          23.089353561401367,
          -4.3235673904418945,
          -2.8909363746643066,
          -0.5277740955352783,
          1.227047085762024,
          -3.359506845474243,
          -3.840949058532715,
          10.99206256866455,
          -2.7156076431274414,
          -7.3942999839782715,
          -2.540856122970581,
          3.672933578491211,
          2.847977876663208,
          -8.856298446655273,
          -3.0564959049224854,
          9.699817657470703,
          -14.082500457763672,
          -4.08327579498291,
          -6.47016716003418,
          -9.326539993286133,
          6.815257549285889,
          -2.2605018615722656,
          0.20936939120292664,
          -1.162596344947815,
          -1.9163624048233032,
          -15.579490661621094,
          -3.1029839515686035,
          1.8639830350875854,
          -3.3768327236175537,
          62.44190979003906,
          -24.810897827148438,
          -6.952043533325195,
          -9.688506126403809
         ],
         "xaxis": "x",
         "y": [
          -11.158234596252441,
          13.76772689819336,
          -11.852858543395996,
          13.52645492553711,
          8.94379711151123,
          2.2785966396331787,
          -4.842303276062012,
          4.452447891235352,
          7.372598648071289,
          7.163552761077881,
          -2.590383768081665,
          1.0780073404312134,
          -0.2115059792995453,
          -7.437338829040527,
          -10.897576332092285,
          3.2574479579925537,
          -6.068410873413086,
          -6.222924709320068,
          -10.645795822143555,
          1.75155508518219,
          7.30550479888916,
          12.854793548583984,
          -10.33561897277832,
          -6.247607231140137,
          -0.10954688489437103,
          5.078474521636963,
          1.7952097654342651,
          3.4963560104370117,
          -0.10954688489437103,
          -18.710052490234375,
          -5.547505855560303,
          -10.635258674621582,
          0.7245450615882874,
          -1.8950729370117188,
          -14.306814193725586,
          -0.17333579063415527,
          -10.057987213134766,
          6.938493728637695,
          -1.87592613697052,
          4.106321811676025,
          -0.17333579063415527,
          9.003972053527832,
          13.25207233428955,
          4.98863410949707,
          -10.0707368850708,
          -2.9913291931152344,
          -3.7027230262756348,
          11.267557144165039,
          2.0267202854156494,
          -3.363692045211792,
          -0.17333579063415527,
          -13.869811058044434,
          11.361262321472168,
          -0.7865444421768188,
          9.620463371276855,
          13.1504487991333,
          2.259927988052368,
          -2.7664496898651123,
          12.13029956817627,
          -13.626005172729492,
          1.130138874053955,
          7.640746593475342,
          -6.0843024253845215,
          9.608994483947754,
          -10.06984806060791,
          0.3354349136352539,
          -12.226237297058105,
          -10.404620170593262,
          0.8339477777481079,
          -7.094973087310791,
          3.4485723972320557,
          -1.5305054187774658,
          -4.285190105438232,
          5.766387462615967,
          -6.029852390289307,
          1.7313200235366821,
          13.020244598388672,
          -14.487530708312988,
          -5.485973358154297,
          26.833322525024414,
          -4.634347915649414,
          -4.567852020263672,
          -10.6113862991333,
          2.229745388031006,
          -2.3201630115509033,
          -1.5265605449676514,
          -18.276702880859375,
          3.672856569290161,
          -9.835921287536621,
          13.080402374267578,
          9.72501277923584,
          -10.9081449508667,
          -6.986426830291748,
          0.6809569597244263,
          11.102521896362305,
          2.721930503845215,
          6.767889022827148,
          -1.595512866973877,
          -1.8599125146865845,
          9.579455375671387,
          9.569903373718262,
          2.4695990085601807,
          -2.0105252265930176,
          -0.44719061255455017,
          -1.3943647146224976,
          -5.764232158660889,
          13.6522798538208,
          9.33576774597168,
          10.462152481079102,
          3.4488821029663086,
          12.025106430053711,
          -4.486783504486084,
          12.843737602233887,
          -10.817317008972168,
          10.971364974975586,
          -14.90778923034668,
          -0.10108458250761032,
          -2.2435240745544434,
          -18.914705276489258,
          -7.88850736618042,
          10.928214073181152,
          0.024021068587899208,
          21.557191848754883,
          -12.151971817016602,
          -13.575407028198242,
          6.403172492980957,
          11.160052299499512,
          0.7577200531959534,
          7.111101150512695,
          1.2444782257080078,
          -4.190485000610352,
          -1.2558510303497314,
          1.1119880676269531,
          1.677839756011963,
          -11.563135147094727,
          -5.7606096267700195,
          -3.7146918773651123,
          -0.6692603826522827,
          0.47111397981643677,
          -1.4237043857574463,
          2.328512668609619,
          -6.862918853759766,
          3.633540630340576,
          8.419465065002441,
          -7.014874458312988,
          -10.318807601928711,
          -14.157432556152344,
          -0.9118515849113464,
          -1.3174800872802734,
          4.969177722930908,
          -0.802639901638031,
          7.52905797958374,
          2.1746985912323,
          -5.58343505859375,
          -2.733199119567871,
          -11.225749969482422,
          -7.941855430603027,
          -1.9015520811080933,
          -11.512635231018066,
          6.9863691329956055,
          -3.2956159114837646,
          17.272382736206055,
          -5.666738510131836,
          1.1334943771362305,
          7.85761022567749,
          6.055410861968994,
          7.857262134552002,
          -1.2535616159439087,
          -3.0090205669403076,
          -6.144098281860352,
          6.989922523498535,
          -0.04454190284013748,
          3.895977020263672,
          -11.51403522491455,
          -14.41186809539795,
          5.381501197814941,
          -0.4177979826927185,
          -6.242136001586914,
          -2.528230905532837,
          1.601781964302063,
          -2.0882656574249268,
          -5.278748035430908,
          11.89134693145752,
          -14.313980102539062,
          -2.4680635929107666,
          12.530866622924805,
          4.474485874176025,
          -11.778621673583984,
          11.944729804992676,
          -7.510534763336182,
          -0.23983435332775116,
          -0.9116437435150146,
          -1.6482059955596924,
          11.308314323425293,
          9.40336799621582,
          -3.886004686355591,
          -4.3965535163879395,
          -4.399509429931641,
          -11.801194190979004,
          -1.606386423110962,
          -16.244850158691406,
          12.264244079589844,
          -3.281033992767334,
          -14.279376029968262,
          2.459367513656616,
          -7.169894695281982,
          11.499908447265625
         ],
         "yaxis": "y"
        }
       ],
       "layout": {
        "coloraxis": {
         "colorbar": {
          "title": {
           "text": "label"
          }
         },
         "colorscale": [
          [
           0,
           "#0d0887"
          ],
          [
           0.1111111111111111,
           "#46039f"
          ],
          [
           0.2222222222222222,
           "#7201a8"
          ],
          [
           0.3333333333333333,
           "#9c179e"
          ],
          [
           0.4444444444444444,
           "#bd3786"
          ],
          [
           0.5555555555555556,
           "#d8576b"
          ],
          [
           0.6666666666666666,
           "#ed7953"
          ],
          [
           0.7777777777777778,
           "#fb9f3a"
          ],
          [
           0.8888888888888888,
           "#fdca26"
          ],
          [
           1,
           "#f0f921"
          ]
         ]
        },
        "legend": {
         "tracegroupgap": 0
        },
        "margin": {
         "t": 60
        },
        "template": {
         "data": {
          "bar": [
           {
            "error_x": {
             "color": "#2a3f5f"
            },
            "error_y": {
             "color": "#2a3f5f"
            },
            "marker": {
             "line": {
              "color": "#E5ECF6",
              "width": 0.5
             },
             "pattern": {
              "fillmode": "overlay",
              "size": 10,
              "solidity": 0.2
             }
            },
            "type": "bar"
           }
          ],
          "barpolar": [
           {
            "marker": {
             "line": {
              "color": "#E5ECF6",
              "width": 0.5
             },
             "pattern": {
              "fillmode": "overlay",
              "size": 10,
              "solidity": 0.2
             }
            },
            "type": "barpolar"
           }
          ],
          "carpet": [
           {
            "aaxis": {
             "endlinecolor": "#2a3f5f",
             "gridcolor": "white",
             "linecolor": "white",
             "minorgridcolor": "white",
             "startlinecolor": "#2a3f5f"
            },
            "baxis": {
             "endlinecolor": "#2a3f5f",
             "gridcolor": "white",
             "linecolor": "white",
             "minorgridcolor": "white",
             "startlinecolor": "#2a3f5f"
            },
            "type": "carpet"
           }
          ],
          "choropleth": [
           {
            "colorbar": {
             "outlinewidth": 0,
             "ticks": ""
            },
            "type": "choropleth"
           }
          ],
          "contour": [
           {
            "colorbar": {
             "outlinewidth": 0,
             "ticks": ""
            },
            "colorscale": [
             [
              0,
              "#0d0887"
             ],
             [
              0.1111111111111111,
              "#46039f"
             ],
             [
              0.2222222222222222,
              "#7201a8"
             ],
             [
              0.3333333333333333,
              "#9c179e"
             ],
             [
              0.4444444444444444,
              "#bd3786"
             ],
             [
              0.5555555555555556,
              "#d8576b"
             ],
             [
              0.6666666666666666,
              "#ed7953"
             ],
             [
              0.7777777777777778,
              "#fb9f3a"
             ],
             [
              0.8888888888888888,
              "#fdca26"
             ],
             [
              1,
              "#f0f921"
             ]
            ],
            "type": "contour"
           }
          ],
          "contourcarpet": [
           {
            "colorbar": {
             "outlinewidth": 0,
             "ticks": ""
            },
            "type": "contourcarpet"
           }
          ],
          "heatmap": [
           {
            "colorbar": {
             "outlinewidth": 0,
             "ticks": ""
            },
            "colorscale": [
             [
              0,
              "#0d0887"
             ],
             [
              0.1111111111111111,
              "#46039f"
             ],
             [
              0.2222222222222222,
              "#7201a8"
             ],
             [
              0.3333333333333333,
              "#9c179e"
             ],
             [
              0.4444444444444444,
              "#bd3786"
             ],
             [
              0.5555555555555556,
              "#d8576b"
             ],
             [
              0.6666666666666666,
              "#ed7953"
             ],
             [
              0.7777777777777778,
              "#fb9f3a"
             ],
             [
              0.8888888888888888,
              "#fdca26"
             ],
             [
              1,
              "#f0f921"
             ]
            ],
            "type": "heatmap"
           }
          ],
          "heatmapgl": [
           {
            "colorbar": {
             "outlinewidth": 0,
             "ticks": ""
            },
            "colorscale": [
             [
              0,
              "#0d0887"
             ],
             [
              0.1111111111111111,
              "#46039f"
             ],
             [
              0.2222222222222222,
              "#7201a8"
             ],
             [
              0.3333333333333333,
              "#9c179e"
             ],
             [
              0.4444444444444444,
              "#bd3786"
             ],
             [
              0.5555555555555556,
              "#d8576b"
             ],
             [
              0.6666666666666666,
              "#ed7953"
             ],
             [
              0.7777777777777778,
              "#fb9f3a"
             ],
             [
              0.8888888888888888,
              "#fdca26"
             ],
             [
              1,
              "#f0f921"
             ]
            ],
            "type": "heatmapgl"
           }
          ],
          "histogram": [
           {
            "marker": {
             "pattern": {
              "fillmode": "overlay",
              "size": 10,
              "solidity": 0.2
             }
            },
            "type": "histogram"
           }
          ],
          "histogram2d": [
           {
            "colorbar": {
             "outlinewidth": 0,
             "ticks": ""
            },
            "colorscale": [
             [
              0,
              "#0d0887"
             ],
             [
              0.1111111111111111,
              "#46039f"
             ],
             [
              0.2222222222222222,
              "#7201a8"
             ],
             [
              0.3333333333333333,
              "#9c179e"
             ],
             [
              0.4444444444444444,
              "#bd3786"
             ],
             [
              0.5555555555555556,
              "#d8576b"
             ],
             [
              0.6666666666666666,
              "#ed7953"
             ],
             [
              0.7777777777777778,
              "#fb9f3a"
             ],
             [
              0.8888888888888888,
              "#fdca26"
             ],
             [
              1,
              "#f0f921"
             ]
            ],
            "type": "histogram2d"
           }
          ],
          "histogram2dcontour": [
           {
            "colorbar": {
             "outlinewidth": 0,
             "ticks": ""
            },
            "colorscale": [
             [
              0,
              "#0d0887"
             ],
             [
              0.1111111111111111,
              "#46039f"
             ],
             [
              0.2222222222222222,
              "#7201a8"
             ],
             [
              0.3333333333333333,
              "#9c179e"
             ],
             [
              0.4444444444444444,
              "#bd3786"
             ],
             [
              0.5555555555555556,
              "#d8576b"
             ],
             [
              0.6666666666666666,
              "#ed7953"
             ],
             [
              0.7777777777777778,
              "#fb9f3a"
             ],
             [
              0.8888888888888888,
              "#fdca26"
             ],
             [
              1,
              "#f0f921"
             ]
            ],
            "type": "histogram2dcontour"
           }
          ],
          "mesh3d": [
           {
            "colorbar": {
             "outlinewidth": 0,
             "ticks": ""
            },
            "type": "mesh3d"
           }
          ],
          "parcoords": [
           {
            "line": {
             "colorbar": {
              "outlinewidth": 0,
              "ticks": ""
             }
            },
            "type": "parcoords"
           }
          ],
          "pie": [
           {
            "automargin": true,
            "type": "pie"
           }
          ],
          "scatter": [
           {
            "fillpattern": {
             "fillmode": "overlay",
             "size": 10,
             "solidity": 0.2
            },
            "type": "scatter"
           }
          ],
          "scatter3d": [
           {
            "line": {
             "colorbar": {
              "outlinewidth": 0,
              "ticks": ""
             }
            },
            "marker": {
             "colorbar": {
              "outlinewidth": 0,
              "ticks": ""
             }
            },
            "type": "scatter3d"
           }
          ],
          "scattercarpet": [
           {
            "marker": {
             "colorbar": {
              "outlinewidth": 0,
              "ticks": ""
             }
            },
            "type": "scattercarpet"
           }
          ],
          "scattergeo": [
           {
            "marker": {
             "colorbar": {
              "outlinewidth": 0,
              "ticks": ""
             }
            },
            "type": "scattergeo"
           }
          ],
          "scattergl": [
           {
            "marker": {
             "colorbar": {
              "outlinewidth": 0,
              "ticks": ""
             }
            },
            "type": "scattergl"
           }
          ],
          "scattermapbox": [
           {
            "marker": {
             "colorbar": {
              "outlinewidth": 0,
              "ticks": ""
             }
            },
            "type": "scattermapbox"
           }
          ],
          "scatterpolar": [
           {
            "marker": {
             "colorbar": {
              "outlinewidth": 0,
              "ticks": ""
             }
            },
            "type": "scatterpolar"
           }
          ],
          "scatterpolargl": [
           {
            "marker": {
             "colorbar": {
              "outlinewidth": 0,
              "ticks": ""
             }
            },
            "type": "scatterpolargl"
           }
          ],
          "scatterternary": [
           {
            "marker": {
             "colorbar": {
              "outlinewidth": 0,
              "ticks": ""
             }
            },
            "type": "scatterternary"
           }
          ],
          "surface": [
           {
            "colorbar": {
             "outlinewidth": 0,
             "ticks": ""
            },
            "colorscale": [
             [
              0,
              "#0d0887"
             ],
             [
              0.1111111111111111,
              "#46039f"
             ],
             [
              0.2222222222222222,
              "#7201a8"
             ],
             [
              0.3333333333333333,
              "#9c179e"
             ],
             [
              0.4444444444444444,
              "#bd3786"
             ],
             [
              0.5555555555555556,
              "#d8576b"
             ],
             [
              0.6666666666666666,
              "#ed7953"
             ],
             [
              0.7777777777777778,
              "#fb9f3a"
             ],
             [
              0.8888888888888888,
              "#fdca26"
             ],
             [
              1,
              "#f0f921"
             ]
            ],
            "type": "surface"
           }
          ],
          "table": [
           {
            "cells": {
             "fill": {
              "color": "#EBF0F8"
             },
             "line": {
              "color": "white"
             }
            },
            "header": {
             "fill": {
              "color": "#C8D4E3"
             },
             "line": {
              "color": "white"
             }
            },
            "type": "table"
           }
          ]
         },
         "layout": {
          "annotationdefaults": {
           "arrowcolor": "#2a3f5f",
           "arrowhead": 0,
           "arrowwidth": 1
          },
          "autotypenumbers": "strict",
          "coloraxis": {
           "colorbar": {
            "outlinewidth": 0,
            "ticks": ""
           }
          },
          "colorscale": {
           "diverging": [
            [
             0,
             "#8e0152"
            ],
            [
             0.1,
             "#c51b7d"
            ],
            [
             0.2,
             "#de77ae"
            ],
            [
             0.3,
             "#f1b6da"
            ],
            [
             0.4,
             "#fde0ef"
            ],
            [
             0.5,
             "#f7f7f7"
            ],
            [
             0.6,
             "#e6f5d0"
            ],
            [
             0.7,
             "#b8e186"
            ],
            [
             0.8,
             "#7fbc41"
            ],
            [
             0.9,
             "#4d9221"
            ],
            [
             1,
             "#276419"
            ]
           ],
           "sequential": [
            [
             0,
             "#0d0887"
            ],
            [
             0.1111111111111111,
             "#46039f"
            ],
            [
             0.2222222222222222,
             "#7201a8"
            ],
            [
             0.3333333333333333,
             "#9c179e"
            ],
            [
             0.4444444444444444,
             "#bd3786"
            ],
            [
             0.5555555555555556,
             "#d8576b"
            ],
            [
             0.6666666666666666,
             "#ed7953"
            ],
            [
             0.7777777777777778,
             "#fb9f3a"
            ],
            [
             0.8888888888888888,
             "#fdca26"
            ],
            [
             1,
             "#f0f921"
            ]
           ],
           "sequentialminus": [
            [
             0,
             "#0d0887"
            ],
            [
             0.1111111111111111,
             "#46039f"
            ],
            [
             0.2222222222222222,
             "#7201a8"
            ],
            [
             0.3333333333333333,
             "#9c179e"
            ],
            [
             0.4444444444444444,
             "#bd3786"
            ],
            [
             0.5555555555555556,
             "#d8576b"
            ],
            [
             0.6666666666666666,
             "#ed7953"
            ],
            [
             0.7777777777777778,
             "#fb9f3a"
            ],
            [
             0.8888888888888888,
             "#fdca26"
            ],
            [
             1,
             "#f0f921"
            ]
           ]
          },
          "colorway": [
           "#636efa",
           "#EF553B",
           "#00cc96",
           "#ab63fa",
           "#FFA15A",
           "#19d3f3",
           "#FF6692",
           "#B6E880",
           "#FF97FF",
           "#FECB52"
          ],
          "font": {
           "color": "#2a3f5f"
          },
          "geo": {
           "bgcolor": "white",
           "lakecolor": "white",
           "landcolor": "#E5ECF6",
           "showlakes": true,
           "showland": true,
           "subunitcolor": "white"
          },
          "hoverlabel": {
           "align": "left"
          },
          "hovermode": "closest",
          "mapbox": {
           "style": "light"
          },
          "paper_bgcolor": "white",
          "plot_bgcolor": "#E5ECF6",
          "polar": {
           "angularaxis": {
            "gridcolor": "white",
            "linecolor": "white",
            "ticks": ""
           },
           "bgcolor": "#E5ECF6",
           "radialaxis": {
            "gridcolor": "white",
            "linecolor": "white",
            "ticks": ""
           }
          },
          "scene": {
           "xaxis": {
            "backgroundcolor": "#E5ECF6",
            "gridcolor": "white",
            "gridwidth": 2,
            "linecolor": "white",
            "showbackground": true,
            "ticks": "",
            "zerolinecolor": "white"
           },
           "yaxis": {
            "backgroundcolor": "#E5ECF6",
            "gridcolor": "white",
            "gridwidth": 2,
            "linecolor": "white",
            "showbackground": true,
            "ticks": "",
            "zerolinecolor": "white"
           },
           "zaxis": {
            "backgroundcolor": "#E5ECF6",
            "gridcolor": "white",
            "gridwidth": 2,
            "linecolor": "white",
            "showbackground": true,
            "ticks": "",
            "zerolinecolor": "white"
           }
          },
          "shapedefaults": {
           "line": {
            "color": "#2a3f5f"
           }
          },
          "ternary": {
           "aaxis": {
            "gridcolor": "white",
            "linecolor": "white",
            "ticks": ""
           },
           "baxis": {
            "gridcolor": "white",
            "linecolor": "white",
            "ticks": ""
           },
           "bgcolor": "#E5ECF6",
           "caxis": {
            "gridcolor": "white",
            "linecolor": "white",
            "ticks": ""
           }
          },
          "title": {
           "x": 0.05
          },
          "xaxis": {
           "automargin": true,
           "gridcolor": "white",
           "linecolor": "white",
           "ticks": "",
           "title": {
            "standoff": 15
           },
           "zerolinecolor": "white",
           "zerolinewidth": 2
          },
          "yaxis": {
           "automargin": true,
           "gridcolor": "white",
           "linecolor": "white",
           "ticks": "",
           "title": {
            "standoff": 15
           },
           "zerolinecolor": "white",
           "zerolinewidth": 2
          }
         }
        },
        "xaxis": {
         "anchor": "y",
         "domain": [
          0,
          1
         ],
         "title": {
          "text": "X"
         }
        },
        "yaxis": {
         "anchor": "x",
         "domain": [
          0,
          1
         ],
         "title": {
          "text": "Y"
         }
        }
       }
      }
     },
     "metadata": {},
     "output_type": "display_data"
    }
   ],
   "source": [
    "try:\n",
    "    fig = px.scatter_3d(data_labels, x=\"X\", y=\"Y\", z='Z', color='label', hover_data=['Brand'])\n",
    "except ValueError:\n",
    "    fig = px.scatter(data_labels, x=\"X\", y=\"Y\", color='label', hover_data=['Brand'])\n",
    "\n",
    "fig.show()"
   ]
  }
 ],
 "metadata": {
  "kernelspec": {
   "display_name": "Python 3",
   "language": "python",
   "name": "python3"
  },
  "language_info": {
   "codemirror_mode": {
    "name": "ipython",
    "version": 3
   },
   "file_extension": ".py",
   "mimetype": "text/x-python",
   "name": "python",
   "nbconvert_exporter": "python",
   "pygments_lexer": "ipython3",
   "version": "3.10.11"
  }
 },
 "nbformat": 4,
 "nbformat_minor": 2
}
